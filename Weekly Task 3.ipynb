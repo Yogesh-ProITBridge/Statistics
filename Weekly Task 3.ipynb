{
 "cells": [
  {
   "cell_type": "markdown",
   "id": "58ea95da-7f50-44ff-a631-4515faa2434c",
   "metadata": {},
   "source": [
    "### 1 Sample T test:"
   ]
  },
  {
   "cell_type": "markdown",
   "id": "3620d023-ab72-4405-9aea-2ae992a89659",
   "metadata": {},
   "source": [
    "Suppose a resturant claims that the average waiting time for customers is 8 minutes. The manager of the restuarant collects a random sample of 20 customer waiting times and wants to test if the actual waiting time is significantly different from the claimed 8 minutes."
   ]
  },
  {
   "cell_type": "markdown",
   "id": "2e84705a-4b3e-4df2-82ba-f0397593b3f5",
   "metadata": {},
   "source": [
    "-  Null hypothesis : (The average waiting time is 8 minutes.)\n",
    "-  Alternative hypothesis : (The average waiting time  is not 8 minutes.)"
   ]
  },
  {
   "cell_type": "code",
   "execution_count": 2,
   "id": "92ca5840-eac6-4c47-8178-a32489af5d1b",
   "metadata": {},
   "outputs": [
    {
     "name": "stdout",
     "output_type": "stream",
     "text": [
      "T-statistic: 4.012327507007837\n",
      "P-value: 0.00074491808231056\n",
      "Reject the null hypothesis: The average waiting time is significantly different from 8 minutes.\n"
     ]
    }
   ],
   "source": [
    "import numpy as np\n",
    "from scipy.stats import ttest_1samp\n",
    "\n",
    "\n",
    "waiting_times = np.array([9, 14, 8, 10, 8, 9, 8, 20, 10, 17, 9, 13, 10, 8, 9, 16, 8, 10, 18, 15])\n",
    "claimed_average = 8\n",
    "\n",
    "t_statistic, p_value = ttest_1samp(waiting_times, claimed_average)\n",
    "\n",
    "print(f'T-statistic: {t_statistic}')\n",
    "print(f'P-value: {p_value}')\n",
    "alpha = 0.05\n",
    "if p_value < alpha:\n",
    "    print(\"Reject the null hypothesis: The average waiting time is significantly different from 8 minutes.\")\n",
    "else:\n",
    "    print(\"Fail to reject the null hypothesis: There is not enough evidence to claim a significant difference from 8 minutes.\")\n"
   ]
  },
  {
   "cell_type": "code",
   "execution_count": null,
   "id": "6b54f52e-1672-4d9f-aa44-abd2b1512a64",
   "metadata": {},
   "outputs": [],
   "source": []
  },
  {
   "cell_type": "markdown",
   "id": "02e41602-1978-4952-be80-c7366e141a56",
   "metadata": {},
   "source": [
    "Suppose a company wants to test the claim that their batteries last more than 40 hours. \n",
    "They take a random sample of 20 batteries and find that the mean battery life is 44.9 hours, with a \n",
    "standard deviation of 8.9 hours. To test this claim at a significance level of 0.05, they can use a one-sample \n",
    "t-test to determine if the sample mean is statistically different from 40 hours\n",
    "\n",
    "-  Null hypothesis:  The mean battery life is 40 hours.\n",
    "-  Alternative hypothesis : The mean battery life is significantly different from 40 hours."
   ]
  },
  {
   "cell_type": "code",
   "execution_count": 5,
   "id": "1639b4d9-93a6-49cb-8e95-af5f5fdbb90d",
   "metadata": {},
   "outputs": [
    {
     "name": "stdout",
     "output_type": "stream",
     "text": [
      "T-statistic: nan\n",
      "P-value: nan\n",
      "Fail to reject the null hypothesis: There is not enough evidence to claim a significant difference from 40 hours.\n"
     ]
    }
   ],
   "source": [
    "import numpy as np\n",
    "from scipy.stats import ttest_1samp\n",
    "\n",
    "\n",
    "sample_mean = 44.9  \n",
    "sample_std_dev = 8.9  \n",
    "sample_size = 20  \n",
    "\n",
    "\n",
    "hypothesized_mean = 40\n",
    "\n",
    "\n",
    "if sample_std_dev == 0:\n",
    "    print(\"Cannot perform t-test: Sample standard deviation is zero.\")\n",
    "else:\n",
    "   \n",
    "    t_statistic, p_value = ttest_1samp((sample_mean - hypothesized_mean) / (sample_std_dev / np.sqrt(sample_size)), 0)\n",
    "\n",
    "\n",
    "    print(f'T-statistic: {t_statistic}')\n",
    "    print(f'P-value: {p_value}')\n",
    "\n",
    "   \n",
    "    alpha = 0.05\n",
    "    if p_value < alpha:\n",
    "        print(\"Reject the null hypothesis: The mean battery life is significantly different from 40 hours.\")\n",
    "    else:\n",
    "        print(\"Fail to reject the null hypothesis: There is not enough evidence to claim a significant difference from 40 hours.\")\n"
   ]
  },
  {
   "cell_type": "code",
   "execution_count": null,
   "id": "f5b2263c-b2a0-4b5e-84ed-2f74fa5dcf3c",
   "metadata": {},
   "outputs": [],
   "source": []
  },
  {
   "cell_type": "markdown",
   "id": "e13e8465-833b-4886-a69f-afded2bcff74",
   "metadata": {},
   "source": [
    "### 2 Sample T test:"
   ]
  },
  {
   "cell_type": "markdown",
   "id": "0b7a66a4-a78e-4529-9502-310ed807b898",
   "metadata": {},
   "source": [
    "Suppose a company wants to compare the sales performance of two sales teams, A and B, over the last quarter. The company has the following data:\n",
    "Group A: Sample size (n1) = 25, Sample mean (x1) = 120, Sample standard deviation (s1) = 15\n",
    "Group B: Sample size (n2) = 30, Sample mean (x2) = 130, Sample standard deviation (s2) = 20\n",
    "\n",
    "-  Null Hypothesis (H0): The mean sales of the two teams are equal .\n",
    "-  Alternative Hypothesis (H1): The mean sales of the two teams are not equal ."
   ]
  },
  {
   "cell_type": "code",
   "execution_count": 6,
   "id": "9970bf4b-b819-4063-9dfb-d74ab9fd7393",
   "metadata": {},
   "outputs": [
    {
     "name": "stdout",
     "output_type": "stream",
     "text": [
      "T-statistic: -1.3272810575693417\n",
      "P-value: 0.19010614878599683\n",
      "Fail to reject the null hypothesis: There is not enough evidence to claim a significant difference in mean sales.\n"
     ]
    }
   ],
   "source": [
    "import numpy as np\n",
    "from scipy.stats import ttest_ind\n",
    "\n",
    "# Group A data\n",
    "n1 = 25\n",
    "x1 = 120\n",
    "s1 = 15\n",
    "\n",
    "# Group B data\n",
    "n2 = 30\n",
    "x2 = 130\n",
    "s2 = 20\n",
    "\n",
    "\n",
    "t_statistic, p_value = ttest_ind(np.random.normal(loc=x1, scale=s1, size=n1),\n",
    "                                  np.random.normal(loc=x2, scale=s2, size=n2),\n",
    "                                  equal_var=False)  \n",
    "\n",
    "\n",
    "print(f'T-statistic: {t_statistic}')\n",
    "print(f'P-value: {p_value}')\n",
    "\n",
    "alpha = 0.05\n",
    "if p_value < alpha:\n",
    "    print(\"Reject the null hypothesis: The mean sales of the two teams are significantly different.\")\n",
    "else:\n",
    "    print(\"Fail to reject the null hypothesis: There is not enough evidence to claim a significant difference in mean sales.\")\n"
   ]
  },
  {
   "cell_type": "code",
   "execution_count": null,
   "id": "56df13cc-97b4-4336-811a-d4d7c3fac2ee",
   "metadata": {},
   "outputs": [],
   "source": []
  },
  {
   "cell_type": "markdown",
   "id": "4b5eddd2-08bb-452e-b62c-d2082e7b4e2c",
   "metadata": {},
   "source": [
    "A company wants to compare the productivity of two different manufacturing plants. They collect data on the number\n",
    "of units produced by each plant over a period of time and want to determine if there is a significant difference\n",
    "in their productivity.\n",
    "Plant A: \n",
    "Sample size (n1) = 2.\r\n",
    "Sample mean (x1) = 100 units per d.y\r\n",
    "Sample standard deviation (s1) = 5 units\r\n",
    "Plan B:\r\n",
    "Sample size (n2).= 30\r\n",
    "Sample mean (x2) = 120 units p.r day\r\n",
    "Sample standard deviation (s2) = 7 units\n",
    "\n",
    "-  Null Hypothesis (H0): The productivity of the two manufacturing plants is equal .\n",
    "-  Alternative Hypothesis (H1): The productivity of the two manufacturing plants iequs not al .   "
   ]
  },
  {
   "cell_type": "code",
   "execution_count": 8,
   "id": "d93cb8f3-6a4b-478e-a8a9-3415f98fb0bb",
   "metadata": {},
   "outputs": [
    {
     "name": "stdout",
     "output_type": "stream",
     "text": [
      "T-statistic: -4.20806626620011\n",
      "P-value: 0.10698839039968666\n",
      "Fail to reject the null hypothesis: There is not enough evidence to claim a significant difference in productivity.\n"
     ]
    }
   ],
   "source": [
    "import numpy as np\n",
    "from scipy.stats import ttest_ind\n",
    "\n",
    "# Plant A data\n",
    "n1 = 2\n",
    "x1 = 100\n",
    "s1 = 5\n",
    "\n",
    "# Plant B data\n",
    "n2 = 30\n",
    "x2 = 120\n",
    "s2 = 7\n",
    "\n",
    "t_statistic, p_value = ttest_ind(np.random.normal(loc=x1, scale=s1, size=n1),\n",
    "                                  np.random.normal(loc=x2, scale=s2, size=n2),\n",
    "                                  equal_var=False) \n",
    "\n",
    "print(f'T-statistic: {t_statistic}')\n",
    "print(f'P-value: {p_value}')\n",
    "\n",
    "alpha = 0.05\n",
    "if p_value < alpha:\n",
    "    print(\"Reject the null hypothesis: The productivity of the two manufacturing plants is significantly different.\")\n",
    "else:\n",
    "    print(\"Fail to reject the null hypothesis: There is not enough evidence to claim a significant difference in productivity.\")"
   ]
  },
  {
   "cell_type": "code",
   "execution_count": null,
   "id": "5844ef14-09a0-4cba-9951-36a662ccf83e",
   "metadata": {},
   "outputs": [],
   "source": []
  },
  {
   "cell_type": "markdown",
   "id": "962efa2c-5ade-475d-88cf-d0064c7c5b15",
   "metadata": {},
   "source": [
    "### 1 Sample proportion Test:"
   ]
  },
  {
   "cell_type": "markdown",
   "id": "af93bbbe-24e2-4739-9f6d-8e00cfad9266",
   "metadata": {},
   "source": [
    " A company that claims to have a customer satisfaction rate of 80%. To validate this claim, the company collects feedback from a random sample of 200 customers and finds that 150 of them are satisfied.\n",
    " \n",
    "- Null Hypothesis (H0): The customer satisfaction rate is 80% . \n",
    "- Alternative Hypothesis (H1): The customer satisfaction rate is different from 80%. "
   ]
  },
  {
   "cell_type": "code",
   "execution_count": 10,
   "id": "4f713530-09a2-47fd-bf94-4a93b600eacb",
   "metadata": {},
   "outputs": [
    {
     "name": "stdout",
     "output_type": "stream",
     "text": [
      "Collecting statsmodels\n",
      "  Downloading statsmodels-0.14.0-cp312-cp312-win_amd64.whl.metadata (9.3 kB)\n",
      "Requirement already satisfied: numpy>=1.18 in c:\\users\\venka\\appdata\\local\\programs\\python\\python312\\lib\\site-packages (from statsmodels) (1.26.2)\n",
      "Requirement already satisfied: scipy!=1.9.2,>=1.4 in c:\\users\\venka\\appdata\\local\\programs\\python\\python312\\lib\\site-packages (from statsmodels) (1.11.4)\n",
      "Requirement already satisfied: pandas>=1.0 in c:\\users\\venka\\appdata\\local\\programs\\python\\python312\\lib\\site-packages (from statsmodels) (2.1.3)\n",
      "Collecting patsy>=0.5.2 (from statsmodels)\n",
      "  Downloading patsy-0.5.4-py2.py3-none-any.whl.metadata (3.4 kB)\n",
      "Requirement already satisfied: packaging>=21.3 in c:\\users\\venka\\appdata\\local\\programs\\python\\python312\\lib\\site-packages (from statsmodels) (23.2)\n",
      "Requirement already satisfied: python-dateutil>=2.8.2 in c:\\users\\venka\\appdata\\local\\programs\\python\\python312\\lib\\site-packages (from pandas>=1.0->statsmodels) (2.8.2)\n",
      "Requirement already satisfied: pytz>=2020.1 in c:\\users\\venka\\appdata\\local\\programs\\python\\python312\\lib\\site-packages (from pandas>=1.0->statsmodels) (2023.3.post1)\n",
      "Requirement already satisfied: tzdata>=2022.1 in c:\\users\\venka\\appdata\\local\\programs\\python\\python312\\lib\\site-packages (from pandas>=1.0->statsmodels) (2023.3)\n",
      "Requirement already satisfied: six in c:\\users\\venka\\appdata\\local\\programs\\python\\python312\\lib\\site-packages (from patsy>=0.5.2->statsmodels) (1.16.0)\n",
      "Downloading statsmodels-0.14.0-cp312-cp312-win_amd64.whl (9.1 MB)\n",
      "   ---------------------------------------- 0.0/9.1 MB ? eta -:--:--\n",
      "   ---------------------------------------- 0.0/9.1 MB ? eta -:--:--\n",
      "   ---------------------------------------- 0.0/9.1 MB ? eta -:--:--\n",
      "   ---------------------------------------- 0.0/9.1 MB 262.6 kB/s eta 0:00:35\n",
      "   ---------------------------------------- 0.1/9.1 MB 409.6 kB/s eta 0:00:23\n",
      "   ---------------------------------------- 0.1/9.1 MB 656.4 kB/s eta 0:00:14\n",
      "    --------------------------------------- 0.2/9.1 MB 888.4 kB/s eta 0:00:11\n",
      "    --------------------------------------- 0.2/9.1 MB 888.4 kB/s eta 0:00:11\n",
      "   - -------------------------------------- 0.3/9.1 MB 785.2 kB/s eta 0:00:12\n",
      "   - -------------------------------------- 0.3/9.1 MB 855.7 kB/s eta 0:00:11\n",
      "   - -------------------------------------- 0.4/9.1 MB 1.0 MB/s eta 0:00:09\n",
      "   - -------------------------------------- 0.4/9.1 MB 1.0 MB/s eta 0:00:09\n",
      "   -- ------------------------------------- 0.5/9.1 MB 1.1 MB/s eta 0:00:08\n",
      "   -- ------------------------------------- 0.6/9.1 MB 1.1 MB/s eta 0:00:08\n",
      "   -- ------------------------------------- 0.6/9.1 MB 1.1 MB/s eta 0:00:08\n",
      "   --- ------------------------------------ 0.7/9.1 MB 1.3 MB/s eta 0:00:07\n",
      "   --- ------------------------------------ 0.7/9.1 MB 1.3 MB/s eta 0:00:07\n",
      "   --- ------------------------------------ 0.8/9.1 MB 1.1 MB/s eta 0:00:08\n",
      "   --- ------------------------------------ 0.8/9.1 MB 1.1 MB/s eta 0:00:08\n",
      "   ---- ----------------------------------- 0.9/9.1 MB 1.2 MB/s eta 0:00:07\n",
      "   ---- ----------------------------------- 1.0/9.1 MB 1.3 MB/s eta 0:00:07\n",
      "   ----- ---------------------------------- 1.2/9.1 MB 1.3 MB/s eta 0:00:06\n",
      "   ----- ---------------------------------- 1.2/9.1 MB 1.3 MB/s eta 0:00:06\n",
      "   ----- ---------------------------------- 1.4/9.1 MB 1.4 MB/s eta 0:00:06\n",
      "   ----- ---------------------------------- 1.4/9.1 MB 1.4 MB/s eta 0:00:06\n",
      "   ------ --------------------------------- 1.4/9.1 MB 1.4 MB/s eta 0:00:06\n",
      "   ------ --------------------------------- 1.6/9.1 MB 1.4 MB/s eta 0:00:06\n",
      "   ------- -------------------------------- 1.7/9.1 MB 1.5 MB/s eta 0:00:06\n",
      "   ------- -------------------------------- 1.8/9.1 MB 1.5 MB/s eta 0:00:05\n",
      "   -------- ------------------------------- 1.9/9.1 MB 1.5 MB/s eta 0:00:05\n",
      "   -------- ------------------------------- 1.9/9.1 MB 1.5 MB/s eta 0:00:05\n",
      "   --------- ------------------------------ 2.1/9.1 MB 1.6 MB/s eta 0:00:05\n",
      "   --------- ------------------------------ 2.2/9.1 MB 1.6 MB/s eta 0:00:05\n",
      "   ---------- ----------------------------- 2.3/9.1 MB 1.6 MB/s eta 0:00:05\n",
      "   ---------- ----------------------------- 2.4/9.1 MB 1.6 MB/s eta 0:00:05\n",
      "   ----------- ---------------------------- 2.5/9.1 MB 1.7 MB/s eta 0:00:05\n",
      "   ----------- ---------------------------- 2.6/9.1 MB 1.7 MB/s eta 0:00:04\n",
      "   ----------- ---------------------------- 2.7/9.1 MB 1.7 MB/s eta 0:00:04\n",
      "   ------------ --------------------------- 2.7/9.1 MB 1.7 MB/s eta 0:00:04\n",
      "   ------------ --------------------------- 2.8/9.1 MB 1.6 MB/s eta 0:00:04\n",
      "   ------------ --------------------------- 3.0/9.1 MB 1.7 MB/s eta 0:00:04\n",
      "   ------------- -------------------------- 3.1/9.1 MB 1.7 MB/s eta 0:00:04\n",
      "   ------------- -------------------------- 3.1/9.1 MB 1.7 MB/s eta 0:00:04\n",
      "   -------------- ------------------------- 3.3/9.1 MB 1.7 MB/s eta 0:00:04\n",
      "   -------------- ------------------------- 3.3/9.1 MB 1.7 MB/s eta 0:00:04\n",
      "   -------------- ------------------------- 3.3/9.1 MB 1.7 MB/s eta 0:00:04\n",
      "   --------------- ------------------------ 3.5/9.1 MB 1.7 MB/s eta 0:00:04\n",
      "   --------------- ------------------------ 3.6/9.1 MB 1.7 MB/s eta 0:00:04\n",
      "   ---------------- ----------------------- 3.7/9.1 MB 1.8 MB/s eta 0:00:04\n",
      "   ---------------- ----------------------- 3.8/9.1 MB 1.8 MB/s eta 0:00:03\n",
      "   ----------------- ---------------------- 3.9/9.1 MB 1.8 MB/s eta 0:00:03\n",
      "   ----------------- ---------------------- 4.1/9.1 MB 1.8 MB/s eta 0:00:03\n",
      "   ------------------ --------------------- 4.2/9.1 MB 1.8 MB/s eta 0:00:03\n",
      "   ------------------ --------------------- 4.3/9.1 MB 1.8 MB/s eta 0:00:03\n",
      "   ------------------- -------------------- 4.4/9.1 MB 1.8 MB/s eta 0:00:03\n",
      "   ------------------- -------------------- 4.5/9.1 MB 1.9 MB/s eta 0:00:03\n",
      "   -------------------- ------------------- 4.6/9.1 MB 1.9 MB/s eta 0:00:03\n",
      "   -------------------- ------------------- 4.7/9.1 MB 1.9 MB/s eta 0:00:03\n",
      "   --------------------- ------------------ 4.8/9.1 MB 1.9 MB/s eta 0:00:03\n",
      "   --------------------- ------------------ 4.9/9.1 MB 1.9 MB/s eta 0:00:03\n",
      "   --------------------- ------------------ 5.0/9.1 MB 1.9 MB/s eta 0:00:03\n",
      "   ---------------------- ----------------- 5.1/9.1 MB 1.9 MB/s eta 0:00:03\n",
      "   ---------------------- ----------------- 5.2/9.1 MB 1.9 MB/s eta 0:00:03\n",
      "   ----------------------- ---------------- 5.4/9.1 MB 1.9 MB/s eta 0:00:02\n",
      "   ----------------------- ---------------- 5.4/9.1 MB 1.9 MB/s eta 0:00:02\n",
      "   ------------------------ --------------- 5.5/9.1 MB 1.9 MB/s eta 0:00:02\n",
      "   ------------------------ --------------- 5.7/9.1 MB 1.9 MB/s eta 0:00:02\n",
      "   ------------------------- -------------- 5.7/9.1 MB 1.9 MB/s eta 0:00:02\n",
      "   ------------------------- -------------- 5.8/9.1 MB 1.9 MB/s eta 0:00:02\n",
      "   ------------------------- -------------- 5.9/9.1 MB 1.9 MB/s eta 0:00:02\n",
      "   -------------------------- ------------- 6.0/9.1 MB 1.9 MB/s eta 0:00:02\n",
      "   -------------------------- ------------- 6.2/9.1 MB 1.9 MB/s eta 0:00:02\n",
      "   --------------------------- ------------ 6.2/9.1 MB 1.9 MB/s eta 0:00:02\n",
      "   --------------------------- ------------ 6.3/9.1 MB 1.9 MB/s eta 0:00:02\n",
      "   --------------------------- ------------ 6.3/9.1 MB 1.9 MB/s eta 0:00:02\n",
      "   ---------------------------- ----------- 6.5/9.1 MB 1.9 MB/s eta 0:00:02\n",
      "   ---------------------------- ----------- 6.5/9.1 MB 1.9 MB/s eta 0:00:02\n",
      "   ----------------------------- ---------- 6.6/9.1 MB 1.9 MB/s eta 0:00:02\n",
      "   ----------------------------- ---------- 6.7/9.1 MB 1.9 MB/s eta 0:00:02\n",
      "   ----------------------------- ---------- 6.8/9.1 MB 1.9 MB/s eta 0:00:02\n",
      "   ------------------------------ --------- 6.9/9.1 MB 1.9 MB/s eta 0:00:02\n",
      "   ------------------------------ --------- 7.0/9.1 MB 1.9 MB/s eta 0:00:02\n",
      "   ------------------------------ --------- 7.1/9.1 MB 1.9 MB/s eta 0:00:02\n",
      "   ------------------------------- -------- 7.2/9.1 MB 1.9 MB/s eta 0:00:02\n",
      "   ------------------------------- -------- 7.3/9.1 MB 1.9 MB/s eta 0:00:01\n",
      "   -------------------------------- ------- 7.4/9.1 MB 1.9 MB/s eta 0:00:01\n",
      "   -------------------------------- ------- 7.4/9.1 MB 1.9 MB/s eta 0:00:01\n",
      "   --------------------------------- ------ 7.6/9.1 MB 1.9 MB/s eta 0:00:01\n",
      "   --------------------------------- ------ 7.7/9.1 MB 2.0 MB/s eta 0:00:01\n",
      "   ---------------------------------- ----- 7.8/9.1 MB 2.0 MB/s eta 0:00:01\n",
      "   ---------------------------------- ----- 7.9/9.1 MB 2.0 MB/s eta 0:00:01\n",
      "   ----------------------------------- ---- 8.0/9.1 MB 2.0 MB/s eta 0:00:01\n",
      "   ----------------------------------- ---- 8.1/9.1 MB 2.0 MB/s eta 0:00:01\n",
      "   ----------------------------------- ---- 8.2/9.1 MB 2.0 MB/s eta 0:00:01\n",
      "   ----------------------------------- ---- 8.2/9.1 MB 2.0 MB/s eta 0:00:01\n",
      "   ------------------------------------- -- 8.5/9.1 MB 2.0 MB/s eta 0:00:01\n",
      "   ------------------------------------- -- 8.6/9.1 MB 2.0 MB/s eta 0:00:01\n",
      "   -------------------------------------- - 8.7/9.1 MB 2.0 MB/s eta 0:00:01\n",
      "   -------------------------------------- - 8.8/9.1 MB 2.0 MB/s eta 0:00:01\n",
      "   -------------------------------------- - 8.9/9.1 MB 2.0 MB/s eta 0:00:01\n",
      "   ---------------------------------------  9.0/9.1 MB 2.0 MB/s eta 0:00:01\n",
      "   ---------------------------------------  9.0/9.1 MB 2.0 MB/s eta 0:00:01\n",
      "   ---------------------------------------  9.1/9.1 MB 2.0 MB/s eta 0:00:01\n",
      "   ---------------------------------------  9.1/9.1 MB 2.0 MB/s eta 0:00:01\n",
      "   ---------------------------------------- 9.1/9.1 MB 2.0 MB/s eta 0:00:00\n",
      "Downloading patsy-0.5.4-py2.py3-none-any.whl (233 kB)\n",
      "   ---------------------------------------- 0.0/233.9 kB ? eta -:--:--\n",
      "   --------------- ------------------------ 92.2/233.9 kB 2.6 MB/s eta 0:00:01\n",
      "   --------------------------------- ------ 194.6/233.9 kB 2.0 MB/s eta 0:00:01\n",
      "   ---------------------------------------- 233.9/233.9 kB 1.8 MB/s eta 0:00:00\n",
      "Installing collected packages: patsy, statsmodels\n",
      "Successfully installed patsy-0.5.4 statsmodels-0.14.0\n",
      "Note: you may need to restart the kernel to use updated packages.\n"
     ]
    }
   ],
   "source": [
    "pip install statsmodels"
   ]
  },
  {
   "cell_type": "code",
   "execution_count": 11,
   "id": "6cd6dc6a-6c50-444b-98b3-70967d5eb129",
   "metadata": {},
   "outputs": [
    {
     "name": "stdout",
     "output_type": "stream",
     "text": [
      "Z-statistic: -1.6329931618554536\n",
      "P-value: 0.1024704348597491\n",
      "Fail to reject the null hypothesis: There is not enough evidence to claim a significant difference from 80%.\n"
     ]
    }
   ],
   "source": [
    "import numpy as np\n",
    "from statsmodels.stats.proportion import proportions_ztest\n",
    "\n",
    "total_customers = 200\n",
    "satisfied_customers = 150\n",
    "expected_proportion = 0.80  \n",
    "\n",
    "z_statistic, p_value = proportions_ztest(satisfied_customers, total_customers, expected_proportion)\n",
    "\n",
    "print(f'Z-statistic: {z_statistic}')\n",
    "print(f'P-value: {p_value}')\n",
    "\n",
    "alpha = 0.05\n",
    "if p_value < alpha:\n",
    "    print(\"Reject the null hypothesis: The customer satisfaction rate is significantly different from 80%.\")\n",
    "else:\n",
    "    print(\"Fail to reject the null hypothesis: There is not enough evidence to claim a significant difference from 80%.\")\n"
   ]
  },
  {
   "cell_type": "code",
   "execution_count": null,
   "id": "9612fb2b-0f35-47fc-bb6e-2f016e946283",
   "metadata": {},
   "outputs": [],
   "source": []
  },
  {
   "cell_type": "markdown",
   "id": "a390fb70-9382-4f81-ac74-d5956d932a4b",
   "metadata": {},
   "source": [
    "A manufacturer claims that only 8% of their products are defective. A sample is taken to test this claim from \n",
    "random sample 200 products .\n",
    "\n",
    "- Null Hypothesis (H0): The proportion of defective products 8%.\n",
    "\n",
    "-  Alternative Hypothesis (H1): The proportion of defective products is different from 8%."
   ]
  },
  {
   "cell_type": "code",
   "execution_count": 12,
   "id": "d21f4863-afcb-45a0-9492-c6c045192350",
   "metadata": {},
   "outputs": [
    {
     "name": "stdout",
     "output_type": "stream",
     "text": [
      "Z-statistic: 0.0\n",
      "P-value: 1.0\n",
      "Fail to reject the null hypothesis: There is not enough evidence to claim a significant difference from 8%.\n"
     ]
    }
   ],
   "source": [
    "import numpy as np\n",
    "from statsmodels.stats.proportion import proportions_ztest\n",
    "\n",
    "total_products = 200\n",
    "defective_products = 16  \n",
    "expected_proportion = 0.08\n",
    "\n",
    "\n",
    "z_statistic, p_value = proportions_ztest(defective_products, total_products, expected_proportion)\n",
    "print(f'Z-statistic: {z_statistic}')\n",
    "print(f'P-value: {p_value}')\n",
    "\n",
    "alpha = 0.05\n",
    "if p_value < alpha:\n",
    "    print(\"Reject the null hypothesis: The proportion of defective products is significantly different from 8%.\")\n",
    "else:\n",
    "    print(\"Fail to reject the null hypothesis: There is not enough evidence to claim a significant difference from 8%.\")\n"
   ]
  },
  {
   "cell_type": "code",
   "execution_count": null,
   "id": "17c585c5-6299-4cad-a95d-23c470284ca1",
   "metadata": {},
   "outputs": [],
   "source": []
  },
  {
   "cell_type": "markdown",
   "id": "7349ed7b-bb1a-4eea-ac85-dd37876fca3d",
   "metadata": {},
   "source": [
    "### 2 sample proportion Test:"
   ]
  },
  {
   "cell_type": "markdown",
   "id": "7b1cf553-9044-4d9a-81e8-432ce6828278",
   "metadata": {},
   "source": [
    "A company wants to compare customer satisfaction rates between two regions (Region A and Region B). They collect \n",
    "feedback from customers in each region and categorize them as satisfied or unsatisfied .\n",
    "\n",
    "Region A:\n",
    "- Satisfied: 400; Unsatisfied: 100\n",
    "\n",
    "Region B:\n",
    "- Satisfied: 350; Unsatisfied: 150\n",
    "\n",
    "-  Null Hypothesis (H0): The satisfaction rates are the same for both regions\n",
    "-  Alternative Hypothesis (H1): The satisfaction rates are different for the two regions"
   ]
  },
  {
   "cell_type": "code",
   "execution_count": 13,
   "id": "fceafa7b-a3ce-4f67-8616-4806a6f0108f",
   "metadata": {},
   "outputs": [
    {
     "name": "stdout",
     "output_type": "stream",
     "text": [
      "Z-statistic: 3.6514837167011107\n",
      "P-value: 0.0002607296328553129\n",
      "Reject the null hypothesis: The satisfaction rates are significantly different for the two regions.\n"
     ]
    }
   ],
   "source": [
    "import numpy as np\n",
    "from statsmodels.stats.proportion import proportions_ztest\n",
    "\n",
    "# Data for Region A\n",
    "satisfied_A = 400\n",
    "unsatisfied_A = 100\n",
    "total_A = satisfied_A + unsatisfied_A\n",
    "\n",
    "# Data for Region B\n",
    "satisfied_B = 350\n",
    "unsatisfied_B = 150\n",
    "total_B = satisfied_B + unsatisfied_B\n",
    "\n",
    "count = np.array([satisfied_A, satisfied_B])\n",
    "nobs = np.array([total_A, total_B])\n",
    "z_statistic, p_value = proportions_ztest(count, nobs, alternative='two-sided')\n",
    "\n",
    "print(f'Z-statistic: {z_statistic}')\n",
    "print(f'P-value: {p_value}')\n",
    "\n",
    "alpha = 0.05\n",
    "if p_value < alpha:\n",
    "    print(\"Reject the null hypothesis: The satisfaction rates are significantly different for the two regions.\")\n",
    "else:\n",
    "    print(\"Fail to reject the null hypothesis: There is not enough evidence to claim a significant difference in satisfaction rates.\")\n"
   ]
  },
  {
   "cell_type": "code",
   "execution_count": null,
   "id": "638b5b3f-dc99-4651-997a-a6dff20f9241",
   "metadata": {},
   "outputs": [],
   "source": []
  },
  {
   "cell_type": "markdown",
   "id": "877fbdd8-27a0-401c-8920-11d7ae44609c",
   "metadata": {},
   "source": [
    "A manufacturing company sources components from two different suppliers. The company wants to test if the \n",
    "proportion of defective products differs between the components supplied by Supplier A and Supplier B.\n",
    "\n",
    "-  Null Hypothesis (H0): The proportions of defective products from Supplier A and Supplier B are the same.\n",
    "- Alternative Hypothesis (H1): The proportions of defective products from Supplier A and Supplier B are different. "
   ]
  },
  {
   "cell_type": "code",
   "execution_count": 14,
   "id": "c272b3b1-1ea6-4e60-8212-406518ffbe00",
   "metadata": {},
   "outputs": [
    {
     "name": "stdout",
     "output_type": "stream",
     "text": [
      "Z-statistic: 0.884747910407618\n",
      "P-value: 0.37629260924305163\n",
      "Fail to reject the null hypothesis: There is not enough evidence to claim a significant difference in proportions of defective products.\n"
     ]
    }
   ],
   "source": [
    "import numpy as np\n",
    "from statsmodels.stats.proportion import proportions_ztest\n",
    "\n",
    "# Data for Supplier A\n",
    "defective_A = 20\n",
    "total_A = 200\n",
    "\n",
    "# Data for Supplier B\n",
    "defective_B = 15\n",
    "total_B = 200\n",
    "\n",
    "\n",
    "count = np.array([defective_A, defective_B])\n",
    "nobs = np.array([total_A, total_B])\n",
    "\n",
    "z_statistic, p_value = proportions_ztest(count, nobs, alternative='two-sided')\n",
    "\n",
    "\n",
    "print(f'Z-statistic: {z_statistic}')\n",
    "print(f'P-value: {p_value}')\n",
    "\n",
    "alpha = 0.05\n",
    "if p_value < alpha:\n",
    "    print(\"Reject the null hypothesis: The proportions of defective products from Supplier A and Supplier B are significantly different.\")\n",
    "else:\n",
    "    print(\"Fail to reject the null hypothesis: There is not enough evidence to claim a significant difference in proportions of defective products.\")\n"
   ]
  },
  {
   "cell_type": "code",
   "execution_count": null,
   "id": "3be297f3-b850-4034-97f0-56e602754e7f",
   "metadata": {},
   "outputs": [],
   "source": []
  },
  {
   "cell_type": "markdown",
   "id": "4565927a-5323-4a2b-9ead-a538b125955d",
   "metadata": {},
   "source": [
    "### ANOVA (Analysis of Variance) Test:"
   ]
  },
  {
   "cell_type": "markdown",
   "id": "72539d79-1954-43f1-a77b-c9ff4e1a6f1e",
   "metadata": {},
   "source": [
    "A marketing team implements three different strategies to promote a product. The company wants to know if there \n",
    "are significant differences in the average conversion rates resulting from these strategies.\n",
    "\n",
    "Strategy A: 20%, 25%, 18%, 22%, 28%\n",
    "\n",
    "Strategy B: 15%, 18%, 16%, 20%, 25%\n",
    "\n",
    "Strategy C: 10%, 12%, 8%, 15%, 14%\n",
    "\n",
    "-  Null Hypothesis \n",
    "​The mean conversion rates are equal for all three strategies.\n",
    "-  Alternative Hypothesis : Atleast one Strategy has a different mean conversion rate.version rate."
   ]
  },
  {
   "cell_type": "code",
   "execution_count": 15,
   "id": "afe63943-20b5-452b-8014-9a110863424a",
   "metadata": {},
   "outputs": [
    {
     "name": "stdout",
     "output_type": "stream",
     "text": [
      "F-statistic: 11.340050377833752\n",
      "P-value: 0.001716348097449154\n",
      "Reject the null hypothesis: There is a significant difference in the mean conversion rates for the three strategies.\n"
     ]
    }
   ],
   "source": [
    "import numpy as np\n",
    "from scipy.stats import f_oneway\n",
    "\n",
    "\n",
    "strategy_a = np.array([20, 25, 18, 22, 28])\n",
    "strategy_b = np.array([15, 18, 16, 20, 25])\n",
    "strategy_c = np.array([10, 12, 8, 15, 14])\n",
    "\n",
    "f_statistic, p_value = f_oneway(strategy_a, strategy_b, strategy_c)\n",
    "\n",
    "print(f'F-statistic: {f_statistic}')\n",
    "print(f'P-value: {p_value}')\n",
    "\n",
    "alpha = 0.05\n",
    "if p_value < alpha:\n",
    "    print(\"Reject the null hypothesis: There is a significant difference in the mean conversion rates for the three strategies.\")\n",
    "else:\n",
    "    print(\"Fail to reject the null hypothesis: There is not enough evidence to claim a significant difference in mean conversion rates.\")\n"
   ]
  },
  {
   "cell_type": "code",
   "execution_count": null,
   "id": "463460ec-e344-4dd0-b821-e66f4d964e12",
   "metadata": {},
   "outputs": [],
   "source": []
  },
  {
   "cell_type": "markdown",
   "id": "1c7408ae-c0ca-4cf6-972f-0bcc19c1820d",
   "metadata": {},
   "source": [
    "A company has three different departments (Sales, Marketing, and Operations). The management wants to assess \n",
    "if there are any significant differences in the average productivity levels (e.g., sales per employee) \n",
    "across these departments.\n",
    "\n",
    "Sales Department: $100,000, $120,000, $90,000, $110,000, $95,000\n",
    "  \n",
    "Marketing Department: $80,000, $85,000, $88,000, $92,000, $78,000\n",
    "   \n",
    "Operations Department: $75,000, $80,000, $72,000, $85,000, $88,000\n",
    "\n",
    "-  Null Hypothesis (H0): The mean productivity levels are equal across all three departments.\n",
    "-  Alternative Hypothesis (H1): At least one department has a different mean productivity level."
   ]
  },
  {
   "cell_type": "code",
   "execution_count": 16,
   "id": "c1b4fb12-2448-48d2-b4b3-940350bd3db1",
   "metadata": {},
   "outputs": [
    {
     "name": "stdout",
     "output_type": "stream",
     "text": [
      "F-statistic: 9.994601889338732\n",
      "P-value: 0.0027865503411931927\n",
      "Reject the null hypothesis: There is a significant difference in the mean productivity levels across the departments.\n"
     ]
    }
   ],
   "source": [
    "import numpy as np\n",
    "from scipy.stats import f_oneway\n",
    "\n",
    "sales = np.array([100000, 120000, 90000, 110000, 95000])\n",
    "marketing = np.array([80000, 85000, 88000, 92000, 78000])\n",
    "operations = np.array([75000, 80000, 72000, 85000, 88000])\n",
    "\n",
    "f_statistic, p_value = f_oneway(sales, marketing, operations)\n",
    "\n",
    "print(f'F-statistic: {f_statistic}')\n",
    "print(f'P-value: {p_value}')\n",
    "\n",
    "alpha = 0.05\n",
    "if p_value < alpha:\n",
    "    print(\"Reject the null hypothesis: There is a significant difference in the mean productivity levels across the departments.\")\n",
    "else:\n",
    "    print(\"Fail to reject the null hypothesis: There is not enough evidence to claim a significant difference in mean productivity levels.\")\n"
   ]
  },
  {
   "cell_type": "code",
   "execution_count": null,
   "id": "018c06e2-b28c-447c-837e-621dadb2c247",
   "metadata": {},
   "outputs": [],
   "source": []
  },
  {
   "cell_type": "markdown",
   "id": "f26e4604-a408-4dbf-9cd2-029d765ffee9",
   "metadata": {},
   "source": [
    "### Paired Test:"
   ]
  },
  {
   "cell_type": "markdown",
   "id": "76319ed2-6f35-4532-8b7b-f826249ef3f5",
   "metadata": {},
   "source": [
    "A company introduces a new training program for employees to improve their performance. The company measures \n",
    "the performance of each employee before and after the training to determine if there is a significant improvement.\n",
    "\n",
    "Before Training: 75, 82, 70, 78, 80\n",
    "    \n",
    "After Training: 85, 88, 75, 90, 92\n",
    "\n",
    "-  Null Hypothesis (H0): The mean performance before training is equal to the mean performance after training.\n",
    "\n",
    "-  Alternative Hypothesis (H1): The mean performance after training is greater than the mean performance before \n",
    "                                 training."
   ]
  },
  {
   "cell_type": "code",
   "execution_count": 17,
   "id": "2a56691b-9da0-4f92-94ad-89a7f63061fe",
   "metadata": {},
   "outputs": [
    {
     "name": "stdout",
     "output_type": "stream",
     "text": [
      "T-statistic: -6.067798762169178\n",
      "P-value: 0.0037257461638828234\n",
      "Reject the null hypothesis: There is a significant improvement in performance after training.\n"
     ]
    }
   ],
   "source": [
    "import numpy as np\n",
    "from scipy.stats import ttest_rel\n",
    "\n",
    "before_training = np.array([75, 82, 70, 78, 80])\n",
    "\n",
    "after_training = np.array([85, 88, 75, 90, 92])\n",
    "\n",
    "t_statistic, p_value = ttest_rel(before_training, after_training)\n",
    "\n",
    "print(f'T-statistic: {t_statistic}')\n",
    "print(f'P-value: {p_value}')\n",
    "\n",
    "alpha = 0.05\n",
    "if p_value < alpha:\n",
    "    print(\"Reject the null hypothesis: There is a significant improvement in performance after training.\")\n",
    "else:\n",
    "    print(\"Fail to reject the null hypothesis: There is not enough evidence to claim a significant improvement in performance.\")\n"
   ]
  },
  {
   "cell_type": "code",
   "execution_count": null,
   "id": "7281d898-047f-4030-b820-caa31fffff39",
   "metadata": {},
   "outputs": [],
   "source": []
  },
  {
   "cell_type": "markdown",
   "id": "894e3aa2-e504-4be3-958d-c004d2b5500c",
   "metadata": {},
   "source": [
    "A manufacturing company introduces a new quality control process to improve the performance of its suppliers.\n",
    "The company measures the defect rates from suppliers before and after implementing the new quality \n",
    "control measures.\n",
    "\n",
    "Before (Defect Rates in Percentage): 3%, 5%, 4%, 6%, 2%\n",
    "\n",
    "After (Defect Rates in Percentage): 1%, 2%, 3%, 1.5%, 2%\n",
    "\n",
    "-  Null Hypothesis (H0): The mean defect rates from suppliers before and after implementing the new quality\n",
    "                         control process are equal.\n",
    "\n",
    "-  Alternative Hypothesis (H1): There is a significant difference in the mean defect rates before and after \n",
    "                             implementing the new quality control process."
   ]
  },
  {
   "cell_type": "code",
   "execution_count": 18,
   "id": "2028528f-f330-405f-b4bd-2a5a404e56c5",
   "metadata": {},
   "outputs": [
    {
     "name": "stdout",
     "output_type": "stream",
     "text": [
      "T-statistic: 2.6887744785908154\n",
      "P-value: 0.05472761166714993\n",
      "Fail to reject the null hypothesis: There is not enough evidence to claim a significant difference in mean defect rates.\n"
     ]
    }
   ],
   "source": [
    "import numpy as np\n",
    "from scipy.stats import ttest_rel\n",
    "\n",
    "before_quality_control = np.array([3, 5, 4, 6, 2])\n",
    "\n",
    "after_quality_control = np.array([1, 2, 3, 1.5, 2])\n",
    "\n",
    "t_statistic, p_value = ttest_rel(before_quality_control, after_quality_control)\n",
    "\n",
    "print(f'T-statistic: {t_statistic}')\n",
    "print(f'P-value: {p_value}')\n",
    "\n",
    "alpha = 0.05\n",
    "if p_value < alpha:\n",
    "    print(\"Reject the null hypothesis: There is a significant difference in the mean defect rates before and after implementing the new quality control process.\")\n",
    "else:\n",
    "    print(\"Fail to reject the null hypothesis: There is not enough evidence to claim a significant difference in mean defect rates.\")\n"
   ]
  },
  {
   "cell_type": "code",
   "execution_count": null,
   "id": "6616d441-bff8-4b6d-a31e-5350dd398d39",
   "metadata": {},
   "outputs": [],
   "source": []
  },
  {
   "cell_type": "markdown",
   "id": "73c08a40-0942-4759-a0e5-bdb68ee66913",
   "metadata": {},
   "source": [
    "### Chi-Square Test:"
   ]
  },
  {
   "cell_type": "code",
   "execution_count": null,
   "id": "3d8255c4-e753-47cb-b3ef-34389d477a0e",
   "metadata": {},
   "outputs": [],
   "source": [
    "A manufacturing company wants to investigate if there is a significant association between product defects \n",
    "(e.g., Yes/No) and different production shifts (e.g., Morning, Afternoon, Night).\n",
    "\n",
    "-  Null Hypothesis (H0):   There is no significant association between product defects and production shifts. \n",
    "-  Alternative Hypothesis (H1): There is a significant association between product defects and production shifts."
   ]
  },
  {
   "cell_type": "code",
   "execution_count": 19,
   "id": "f6443e10-3b6f-4b66-94d2-1dc8408e8bbf",
   "metadata": {},
   "outputs": [
    {
     "name": "stdout",
     "output_type": "stream",
     "text": [
      "Chi-squared statistic: 1.0252852297255628\n",
      "P-value: 0.5989107951793198\n",
      "Fail to reject the null hypothesis: There is not enough evidence to claim a significant association.\n"
     ]
    }
   ],
   "source": [
    "import numpy as np\n",
    "from scipy.stats import chi2_contingency\n",
    "\n",
    "\n",
    "contingency_table = np.array([[10, 5, 8],  # Yes\n",
    "                              [20, 15, 12]])  # No\n",
    "\n",
    "chi2_stat, p_value, dof, expected = chi2_contingency(contingency_table)\n",
    "\n",
    "print(f'Chi-squared statistic: {chi2_stat}')\n",
    "print(f'P-value: {p_value}')\n",
    "\n",
    "alpha = 0.05\n",
    "if p_value < alpha:\n",
    "    print(\"Reject the null hypothesis: There is a significant association between product defects and production shifts.\")\n",
    "else:\n",
    "    print(\"Fail to reject the null hypothesis: There is not enough evidence to claim a significant association.\")\n"
   ]
  },
  {
   "cell_type": "code",
   "execution_count": null,
   "id": "26a43f8f-c54d-4b3a-abe0-26dfa6e71fa4",
   "metadata": {},
   "outputs": [],
   "source": []
  },
  {
   "cell_type": "markdown",
   "id": "87b43b50-24d6-4808-a987-f9eb3df1ea2d",
   "metadata": {},
   "source": [
    "A customer service department collects feedback ratings (e.g., Excellent, Good, Poor) from customers using\n",
    "different service channels (e.g., Phone, Email, Live Chat). The company wants to test if there is a significant \n",
    "association between customer feedback ratings and service channels.\n",
    "\n",
    "-  Null Hypothesis (H0): There is no significant association between customer feedback ratings and service channels. \n",
    "-   Alternative Hypothesis (H1): There is a significant association between customer feedback ratings and \n",
    "     service channels."
   ]
  },
  {
   "cell_type": "code",
   "execution_count": 20,
   "id": "26e511f9-32bb-4681-93dd-1e953450c8b8",
   "metadata": {},
   "outputs": [
    {
     "name": "stdout",
     "output_type": "stream",
     "text": [
      "Chi-squared statistic: 2.361952861952861\n",
      "P-value: 0.669513633511435\n",
      "Fail to reject the null hypothesis: There is not enough evidence to claim a significant association.\n"
     ]
    }
   ],
   "source": [
    "import numpy as np\n",
    "from scipy.stats import chi2_contingency\n",
    "\n",
    "contingency_table = np.array([[10, 15, 5],  # Phone\n",
    "                              [20, 25, 10],  # Email\n",
    "                              [15, 10, 5]])  # Live Chat\n",
    "\n",
    "\n",
    "chi2_stat, p_value, dof, expected = chi2_contingency(contingency_table)\n",
    "\n",
    "print(f'Chi-squared statistic: {chi2_stat}')\n",
    "print(f'P-value: {p_value}')\n",
    "\n",
    "alpha = 0.05\n",
    "if p_value < alpha:\n",
    "    print(\"Reject the null hypothesis: There is a significant association between customer feedback ratings and service channels.\")\n",
    "else:\n",
    "    print(\"Fail to reject the null hypothesis: There is not enough evidence to claim a significant association.\")\n"
   ]
  },
  {
   "cell_type": "code",
   "execution_count": null,
   "id": "b180e499-7948-4253-8d2d-522640b9f9fc",
   "metadata": {},
   "outputs": [],
   "source": []
  }
 ],
 "metadata": {
  "kernelspec": {
   "display_name": "Python 3 (ipykernel)",
   "language": "python",
   "name": "python3"
  },
  "language_info": {
   "codemirror_mode": {
    "name": "ipython",
    "version": 3
   },
   "file_extension": ".py",
   "mimetype": "text/x-python",
   "name": "python",
   "nbconvert_exporter": "python",
   "pygments_lexer": "ipython3",
   "version": "3.12.0"
  }
 },
 "nbformat": 4,
 "nbformat_minor": 5
}
