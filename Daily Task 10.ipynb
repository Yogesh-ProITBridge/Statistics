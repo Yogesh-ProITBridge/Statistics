{
 "cells": [
  {
   "cell_type": "markdown",
   "id": "a8fcaf05-3971-4520-ba7f-81614d4c4cbd",
   "metadata": {},
   "source": [
    "-  Sample mean = $1990\n",
    "  - Population Standrad Deviation = $2500\n",
    "-  Sample = 140\n",
    "-  Z for 98% confidence = 2.326"
   ]
  },
  {
   "cell_type": "markdown",
   "id": "b6b5cdab-fc3f-4a75-96e2-4081c85d3a8f",
   "metadata": {},
   "source": [
    "**so with 98% confidence, the average balance maintained by the alumni is estimated to fall between $1498 to $2481**"
   ]
  },
  {
   "cell_type": "code",
   "execution_count": null,
   "id": "019e8883-da8b-4254-afb3-aca38e718c70",
   "metadata": {},
   "outputs": [],
   "source": []
  },
  {
   "cell_type": "markdown",
   "id": "140ba183-d724-4e57-b393-389e28e5e86f",
   "metadata": {},
   "source": [
    "#### Degrees of Freedom:\n",
    "Degrees of freedom, often represented by **v or df**, is the number of independent pieces of information used to calculate a statistic. It’s calculated as the sample size minus the number of restrictions.\n",
    "\n",
    "Degrees of freedom are normally reported in brackets beside the test statistic, alongside the results of the statistical test."
   ]
  },
  {
   "cell_type": "markdown",
   "id": "2dde1a7b-ac49-48bd-ab0a-e9d3460659c8",
   "metadata": {},
   "source": [
    "The degrees of freedom of a statistic is the sample size minus the number of restrictions. Most of the time, the restrictions are parameters that are estimated as intermediate steps in calculating the statistic.\n",
    "\n",
    "n − r\n",
    "\n",
    "Where:\n",
    "\n",
    "-  **n is the sample size**\n",
    "-  **r is the number of restrictions**, usually the same as the number of parameters estimated\n",
    "The degrees of freedom can’t be negative. As a result, the number of parameters you estimate can’t be larger than your sample size."
   ]
  },
  {
   "cell_type": "code",
   "execution_count": null,
   "id": "6026768c-4d65-42c7-8572-462ff8d83015",
   "metadata": {},
   "outputs": [],
   "source": []
  },
  {
   "cell_type": "markdown",
   "id": "417f5b2c-027d-425e-8586-d68fd923bda2",
   "metadata": {},
   "source": [
    "#### Standard Deviation:\n",
    "-  The standard deviation is defined as the deviation of the values or data from an average mean. \n",
    "Lower standard deviation concludes that the values are very close to their average. Whereas higher values mean \n",
    "he values are far from the mean value. It should be noted that the standard deviation value can never be negative.\n",
    "\n",
    "**Standard Deviation is of two types:**\n",
    "\n",
    "-  Population Standard Deviation\n",
    "-  Sample Standard Deviation\n"
   ]
  },
  {
   "cell_type": "code",
   "execution_count": null,
   "id": "6958af06-2d9f-42f6-b3dc-5ece7ee47544",
   "metadata": {},
   "outputs": [],
   "source": []
  },
  {
   "cell_type": "markdown",
   "id": "be6851ec-3e26-4c8c-8244-0f2a2b1eaee6",
   "metadata": {},
   "source": [
    "#### Population Standard Deviation:\n",
    "-  In statistics, population standard deviation is a number that measures how spread out data is from its mean. \n",
    "It's a way to quantify how much variation there is among individual data points in a population.\n",
    "\n",
    "-  Population standard deviation is used to determine a confidence interval for drawing conclusions.\n"
   ]
  },
  {
   "cell_type": "code",
   "execution_count": null,
   "id": "272168b9-e608-4d3a-b0ce-3d6ceb8bde53",
   "metadata": {},
   "outputs": [],
   "source": []
  },
  {
   "cell_type": "markdown",
   "id": "73e9b7a8-347a-4481-858e-12e406a90f11",
   "metadata": {},
   "source": [
    "#### Difference Between Population Standard Deviation and Standard Deviation?\n",
    "\n",
    "-  The key difference lies in whether you are working with data from an entire population or just a sample of that population. \n",
    "-  If you have data for the entire population, you use the population standard deviation.\n",
    "-  If you only have a sample of the population, you use the sample standard deviation.\n",
    "-  The sample standard deviation tends to slightly underestimate the population standard deviation, so the correction factor of n/n-1 is applied.\n",
    "\n"
   ]
  },
  {
   "cell_type": "code",
   "execution_count": null,
   "id": "611d996a-310b-4aa1-893d-886bdb3f7d22",
   "metadata": {},
   "outputs": [],
   "source": []
  },
  {
   "cell_type": "code",
   "execution_count": null,
   "id": "f99e492a-37f9-43ae-aacf-b2e393accc15",
   "metadata": {},
   "outputs": [],
   "source": []
  },
  {
   "cell_type": "code",
   "execution_count": null,
   "id": "917d1866-eadc-42a7-a8f5-5f753ff656aa",
   "metadata": {},
   "outputs": [],
   "source": []
  }
 ],
 "metadata": {
  "kernelspec": {
   "display_name": "Python 3 (ipykernel)",
   "language": "python",
   "name": "python3"
  },
  "language_info": {
   "codemirror_mode": {
    "name": "ipython",
    "version": 3
   },
   "file_extension": ".py",
   "mimetype": "text/x-python",
   "name": "python",
   "nbconvert_exporter": "python",
   "pygments_lexer": "ipython3",
   "version": "3.12.0"
  }
 },
 "nbformat": 4,
 "nbformat_minor": 5
}
